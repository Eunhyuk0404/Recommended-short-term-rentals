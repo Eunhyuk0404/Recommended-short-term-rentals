{
 "cells": [
  {
   "cell_type": "markdown",
   "metadata": {},
   "source": [
    "# 1.数据预处理\n"
   ]
  },
  {
   "cell_type": "code",
   "execution_count": 1,
   "metadata": {},
   "outputs": [],
   "source": [
    "import pandas as pd\n",
    "import numpy as np\n",
    "import matplotlib.pyplot as plt\n",
    "import seaborn as sns\n",
    "plt.rcParams['font.sans-serif']=['SimHei'] #用来正常显示中文标签\n",
    "plt.rcParams['axes.unicode_minus']=False #用来正常显示负号"
   ]
  },
  {
   "cell_type": "code",
   "execution_count": 2,
   "metadata": {
    "scrolled": true
   },
   "outputs": [],
   "source": [
    "#导入数据，查看数据基本情况\n",
    "listings=pd.read_csv('D:/F/jupyter\\listings.csv')\n"
   ]
  },
  {
   "cell_type": "code",
   "execution_count": 3,
   "metadata": {
    "scrolled": true
   },
   "outputs": [
    {
     "data": {
      "text/html": [
       "<div>\n",
       "<style scoped>\n",
       "    .dataframe tbody tr th:only-of-type {\n",
       "        vertical-align: middle;\n",
       "    }\n",
       "\n",
       "    .dataframe tbody tr th {\n",
       "        vertical-align: top;\n",
       "    }\n",
       "\n",
       "    .dataframe thead th {\n",
       "        text-align: right;\n",
       "    }\n",
       "</style>\n",
       "<table border=\"1\" class=\"dataframe\">\n",
       "  <thead>\n",
       "    <tr style=\"text-align: right;\">\n",
       "      <th></th>\n",
       "      <th>id</th>\n",
       "      <th>name</th>\n",
       "      <th>host_id</th>\n",
       "      <th>host_name</th>\n",
       "      <th>neighbourhood_group</th>\n",
       "      <th>neighbourhood</th>\n",
       "      <th>latitude</th>\n",
       "      <th>longitude</th>\n",
       "      <th>room_type</th>\n",
       "      <th>price</th>\n",
       "      <th>minimum_nights</th>\n",
       "      <th>number_of_reviews</th>\n",
       "      <th>last_review</th>\n",
       "      <th>reviews_per_month</th>\n",
       "      <th>calculated_host_listings_count</th>\n",
       "      <th>availability_365</th>\n",
       "    </tr>\n",
       "  </thead>\n",
       "  <tbody>\n",
       "    <tr>\n",
       "      <th>0</th>\n",
       "      <td>44054</td>\n",
       "      <td>Modern and Comfortable Living in CBD</td>\n",
       "      <td>192875</td>\n",
       "      <td>East Apartments</td>\n",
       "      <td>NaN</td>\n",
       "      <td>朝阳区 / Chaoyang</td>\n",
       "      <td>39.89503</td>\n",
       "      <td>116.45163</td>\n",
       "      <td>Entire home/apt</td>\n",
       "      <td>792</td>\n",
       "      <td>1</td>\n",
       "      <td>89</td>\n",
       "      <td>2019-03-04</td>\n",
       "      <td>0.85</td>\n",
       "      <td>9</td>\n",
       "      <td>341</td>\n",
       "    </tr>\n",
       "    <tr>\n",
       "      <th>1</th>\n",
       "      <td>100213</td>\n",
       "      <td>The Great Wall Box Deluxe Suite A团园长城小院东院套房</td>\n",
       "      <td>527062</td>\n",
       "      <td>Joe</td>\n",
       "      <td>NaN</td>\n",
       "      <td>密云县 / Miyun</td>\n",
       "      <td>40.68434</td>\n",
       "      <td>117.17231</td>\n",
       "      <td>Private room</td>\n",
       "      <td>1201</td>\n",
       "      <td>1</td>\n",
       "      <td>2</td>\n",
       "      <td>2017-10-08</td>\n",
       "      <td>0.10</td>\n",
       "      <td>4</td>\n",
       "      <td>0</td>\n",
       "    </tr>\n",
       "    <tr>\n",
       "      <th>2</th>\n",
       "      <td>128496</td>\n",
       "      <td>Heart of Beijing: House with View 2</td>\n",
       "      <td>467520</td>\n",
       "      <td>Cindy</td>\n",
       "      <td>NaN</td>\n",
       "      <td>东城区</td>\n",
       "      <td>39.93213</td>\n",
       "      <td>116.42200</td>\n",
       "      <td>Entire home/apt</td>\n",
       "      <td>389</td>\n",
       "      <td>3</td>\n",
       "      <td>259</td>\n",
       "      <td>2019-02-05</td>\n",
       "      <td>2.70</td>\n",
       "      <td>1</td>\n",
       "      <td>93</td>\n",
       "    </tr>\n",
       "    <tr>\n",
       "      <th>3</th>\n",
       "      <td>161902</td>\n",
       "      <td>cozy studio in center of Beijing</td>\n",
       "      <td>707535</td>\n",
       "      <td>Robert</td>\n",
       "      <td>NaN</td>\n",
       "      <td>东城区</td>\n",
       "      <td>39.93357</td>\n",
       "      <td>116.43577</td>\n",
       "      <td>Entire home/apt</td>\n",
       "      <td>376</td>\n",
       "      <td>1</td>\n",
       "      <td>26</td>\n",
       "      <td>2016-12-03</td>\n",
       "      <td>0.28</td>\n",
       "      <td>5</td>\n",
       "      <td>290</td>\n",
       "    </tr>\n",
       "    <tr>\n",
       "      <th>4</th>\n",
       "      <td>162144</td>\n",
       "      <td>nice studio near subway, sleep 4</td>\n",
       "      <td>707535</td>\n",
       "      <td>Robert</td>\n",
       "      <td>NaN</td>\n",
       "      <td>朝阳区 / Chaoyang</td>\n",
       "      <td>39.93668</td>\n",
       "      <td>116.43798</td>\n",
       "      <td>Entire home/apt</td>\n",
       "      <td>537</td>\n",
       "      <td>1</td>\n",
       "      <td>37</td>\n",
       "      <td>2018-08-01</td>\n",
       "      <td>0.40</td>\n",
       "      <td>5</td>\n",
       "      <td>352</td>\n",
       "    </tr>\n",
       "  </tbody>\n",
       "</table>\n",
       "</div>"
      ],
      "text/plain": [
       "       id                                         name  host_id  \\\n",
       "0   44054         Modern and Comfortable Living in CBD   192875   \n",
       "1  100213  The Great Wall Box Deluxe Suite A团园长城小院东院套房   527062   \n",
       "2  128496          Heart of Beijing: House with View 2   467520   \n",
       "3  161902             cozy studio in center of Beijing   707535   \n",
       "4  162144            nice studio near subway, sleep 4    707535   \n",
       "\n",
       "         host_name  neighbourhood_group   neighbourhood  latitude  longitude  \\\n",
       "0  East Apartments                  NaN  朝阳区 / Chaoyang  39.89503  116.45163   \n",
       "1              Joe                  NaN     密云县 / Miyun  40.68434  117.17231   \n",
       "2            Cindy                  NaN             东城区  39.93213  116.42200   \n",
       "3           Robert                  NaN             东城区  39.93357  116.43577   \n",
       "4           Robert                  NaN  朝阳区 / Chaoyang  39.93668  116.43798   \n",
       "\n",
       "         room_type  price  minimum_nights  number_of_reviews last_review  \\\n",
       "0  Entire home/apt    792               1                 89  2019-03-04   \n",
       "1     Private room   1201               1                  2  2017-10-08   \n",
       "2  Entire home/apt    389               3                259  2019-02-05   \n",
       "3  Entire home/apt    376               1                 26  2016-12-03   \n",
       "4  Entire home/apt    537               1                 37  2018-08-01   \n",
       "\n",
       "   reviews_per_month  calculated_host_listings_count  availability_365  \n",
       "0               0.85                               9               341  \n",
       "1               0.10                               4                 0  \n",
       "2               2.70                               1                93  \n",
       "3               0.28                               5               290  \n",
       "4               0.40                               5               352  "
      ]
     },
     "execution_count": 3,
     "metadata": {},
     "output_type": "execute_result"
    }
   ],
   "source": [
    "listings.head()"
   ]
  },
  {
   "cell_type": "code",
   "execution_count": 4,
   "metadata": {},
   "outputs": [],
   "source": [
    "#数据清洗\n",
    "#neighbourhood_group全为空值没有意义，可删除该列\n",
    "listings=listings.drop(['neighbourhood_group'],axis=1)"
   ]
  },
  {
   "cell_type": "code",
   "execution_count": 5,
   "metadata": {},
   "outputs": [],
   "source": [
    "#删掉'name'列缺失值所在行\n",
    "listings = listings[listings['name'].notnull()]"
   ]
  },
  {
   "cell_type": "code",
   "execution_count": 6,
   "metadata": {},
   "outputs": [],
   "source": [
    "#'neighbourhood'列只要前面的中文字\n",
    "listings['neighbourhood'] = listings['neighbourhood'].str.split('/').str[0].str.strip()"
   ]
  },
  {
   "cell_type": "code",
   "execution_count": 7,
   "metadata": {},
   "outputs": [
    {
     "data": {
      "text/plain": [
       "array(['Entire home/apt', 'Private room', 'Shared room'], dtype=object)"
      ]
     },
     "execution_count": 7,
     "metadata": {},
     "output_type": "execute_result"
    }
   ],
   "source": [
    "# 查看房屋类型有多少种\n",
    "#房屋类型有三种，分别是Entire home/apt，Private room，Shared room\n",
    "listings['room_type'].unique()"
   ]
  },
  {
   "cell_type": "code",
   "execution_count": 8,
   "metadata": {},
   "outputs": [],
   "source": [
    "#由于只有3条数据，其中除了测试房源外的两个房源都不应该为0，直接删除\n",
    "listings = listings[listings['price']!=0]"
   ]
  },
  {
   "cell_type": "code",
   "execution_count": 9,
   "metadata": {},
   "outputs": [],
   "source": [
    "#删除价格在50000以上的整租房源，在20000以上的独立房源，在10000以上的合租房源\n",
    "listings.drop(listings[(listings['room_type']=='Entire home/apt') & (listings['price']>50000)].index,inplace=True)\n",
    "listings.drop(listings[(listings['room_type']=='Private room') & (listings['price']>20000)].index,inplace=True)\n",
    "listings.drop(listings[(listings['room_type']=='Shared room') & (listings['price']>10000)].index,inplace=True)"
   ]
  },
  {
   "cell_type": "code",
   "execution_count": 10,
   "metadata": {},
   "outputs": [],
   "source": [
    "# 删除最短居住日期在600以上的数据\n",
    "listings = listings[listings['minimum_nights']<600]"
   ]
  },
  {
   "cell_type": "markdown",
   "metadata": {},
   "source": [
    "# 2.房源推荐\n"
   ]
  },
  {
   "cell_type": "markdown",
   "metadata": {},
   "source": [
    "## 2.1 数据预处理"
   ]
  },
  {
   "cell_type": "markdown",
   "metadata": {},
   "source": [
    "### 对不同房源的评价进行情感分析，并将评分保存至reviews_processed.csv文件中。首先对文件中的数据进行预处理"
   ]
  },
  {
   "cell_type": "code",
   "execution_count": 11,
   "metadata": {},
   "outputs": [
    {
     "data": {
      "text/html": [
       "<div>\n",
       "<style scoped>\n",
       "    .dataframe tbody tr th:only-of-type {\n",
       "        vertical-align: middle;\n",
       "    }\n",
       "\n",
       "    .dataframe tbody tr th {\n",
       "        vertical-align: top;\n",
       "    }\n",
       "\n",
       "    .dataframe thead th {\n",
       "        text-align: right;\n",
       "    }\n",
       "</style>\n",
       "<table border=\"1\" class=\"dataframe\">\n",
       "  <thead>\n",
       "    <tr style=\"text-align: right;\">\n",
       "      <th></th>\n",
       "      <th>listing_id</th>\n",
       "      <th>id</th>\n",
       "      <th>date</th>\n",
       "      <th>reviewer_id</th>\n",
       "      <th>reviewer_name</th>\n",
       "      <th>comments</th>\n",
       "      <th>positive_prob</th>\n",
       "    </tr>\n",
       "  </thead>\n",
       "  <tbody>\n",
       "    <tr>\n",
       "      <th>0</th>\n",
       "      <td>44054.0</td>\n",
       "      <td>84748.0</td>\n",
       "      <td>2010-08-25</td>\n",
       "      <td>207019.0</td>\n",
       "      <td>Jarrod</td>\n",
       "      <td>Sev was very helpful.  Sev showed us where to ...</td>\n",
       "      <td>0.9585309999999999</td>\n",
       "    </tr>\n",
       "    <tr>\n",
       "      <th>1</th>\n",
       "      <td>44054.0</td>\n",
       "      <td>118384.0</td>\n",
       "      <td>2010-10-13</td>\n",
       "      <td>218723.0</td>\n",
       "      <td>Kimberly</td>\n",
       "      <td>We arrived in Beijing very early in the mornin...</td>\n",
       "      <td>0.919216</td>\n",
       "    </tr>\n",
       "    <tr>\n",
       "      <th>2</th>\n",
       "      <td>44054.0</td>\n",
       "      <td>436978.0</td>\n",
       "      <td>2011-08-11</td>\n",
       "      <td>609177.0</td>\n",
       "      <td>Emma</td>\n",
       "      <td>It is a really massive apartment and really co...</td>\n",
       "      <td>0.994668</td>\n",
       "    </tr>\n",
       "    <tr>\n",
       "      <th>3</th>\n",
       "      <td>44054.0</td>\n",
       "      <td>1118657.0</td>\n",
       "      <td>2012-04-12</td>\n",
       "      <td>1787536.0</td>\n",
       "      <td>Andreyna</td>\n",
       "      <td>Sev was incredibly helpful, showed us around t...</td>\n",
       "      <td>0.99146</td>\n",
       "    </tr>\n",
       "    <tr>\n",
       "      <th>4</th>\n",
       "      <td>44054.0</td>\n",
       "      <td>2140650.0</td>\n",
       "      <td>2012-08-30</td>\n",
       "      <td>1179565.0</td>\n",
       "      <td>Frances</td>\n",
       "      <td>The appartment was ideal for our party of 6 ad...</td>\n",
       "      <td>0.9801549999999999</td>\n",
       "    </tr>\n",
       "  </tbody>\n",
       "</table>\n",
       "</div>"
      ],
      "text/plain": [
       "   listing_id         id        date  reviewer_id reviewer_name  \\\n",
       "0     44054.0    84748.0  2010-08-25     207019.0        Jarrod   \n",
       "1     44054.0   118384.0  2010-10-13     218723.0      Kimberly   \n",
       "2     44054.0   436978.0  2011-08-11     609177.0          Emma   \n",
       "3     44054.0  1118657.0  2012-04-12    1787536.0      Andreyna   \n",
       "4     44054.0  2140650.0  2012-08-30    1179565.0       Frances   \n",
       "\n",
       "                                            comments       positive_prob  \n",
       "0  Sev was very helpful.  Sev showed us where to ...  0.9585309999999999  \n",
       "1  We arrived in Beijing very early in the mornin...            0.919216  \n",
       "2  It is a really massive apartment and really co...            0.994668  \n",
       "3  Sev was incredibly helpful, showed us around t...             0.99146  \n",
       "4  The appartment was ideal for our party of 6 ad...  0.9801549999999999  "
      ]
     },
     "execution_count": 11,
     "metadata": {},
     "output_type": "execute_result"
    }
   ],
   "source": [
    "#处理评论评分\n",
    "df = pd.read_csv(\"D:\\F\\jupyter/reviews_processed.csv\")\n",
    "df.head()"
   ]
  },
  {
   "cell_type": "code",
   "execution_count": 12,
   "metadata": {
    "scrolled": false
   },
   "outputs": [
    {
     "name": "stderr",
     "output_type": "stream",
     "text": [
      "<ipython-input-12-3e02a348e006>:5: UserWarning: Boolean Series key will be reindexed to match DataFrame index.\n",
      "  df=df[df_isnum>=7]\n"
     ]
    },
    {
     "data": {
      "text/html": [
       "<div>\n",
       "<style scoped>\n",
       "    .dataframe tbody tr th:only-of-type {\n",
       "        vertical-align: middle;\n",
       "    }\n",
       "\n",
       "    .dataframe tbody tr th {\n",
       "        vertical-align: top;\n",
       "    }\n",
       "\n",
       "    .dataframe thead th {\n",
       "        text-align: right;\n",
       "    }\n",
       "</style>\n",
       "<table border=\"1\" class=\"dataframe\">\n",
       "  <thead>\n",
       "    <tr style=\"text-align: right;\">\n",
       "      <th></th>\n",
       "      <th>listing_id</th>\n",
       "      <th>id</th>\n",
       "      <th>date</th>\n",
       "      <th>reviewer_id</th>\n",
       "      <th>reviewer_name</th>\n",
       "      <th>comments</th>\n",
       "      <th>positive_prob</th>\n",
       "    </tr>\n",
       "  </thead>\n",
       "  <tbody>\n",
       "    <tr>\n",
       "      <th>1</th>\n",
       "      <td>44054.0</td>\n",
       "      <td>118384.0</td>\n",
       "      <td>2010-10-13</td>\n",
       "      <td>218723.0</td>\n",
       "      <td>Kimberly</td>\n",
       "      <td>We arrived in Beijing very early in the mornin...</td>\n",
       "      <td>0.919216</td>\n",
       "    </tr>\n",
       "    <tr>\n",
       "      <th>2</th>\n",
       "      <td>44054.0</td>\n",
       "      <td>436978.0</td>\n",
       "      <td>2011-08-11</td>\n",
       "      <td>609177.0</td>\n",
       "      <td>Emma</td>\n",
       "      <td>It is a really massive apartment and really co...</td>\n",
       "      <td>0.994668</td>\n",
       "    </tr>\n",
       "    <tr>\n",
       "      <th>3</th>\n",
       "      <td>44054.0</td>\n",
       "      <td>1118657.0</td>\n",
       "      <td>2012-04-12</td>\n",
       "      <td>1787536.0</td>\n",
       "      <td>Andreyna</td>\n",
       "      <td>Sev was incredibly helpful, showed us around t...</td>\n",
       "      <td>0.99146</td>\n",
       "    </tr>\n",
       "    <tr>\n",
       "      <th>6</th>\n",
       "      <td>44054.0</td>\n",
       "      <td>2507676.0</td>\n",
       "      <td>2012-10-04</td>\n",
       "      <td>3659992.0</td>\n",
       "      <td>Patrick</td>\n",
       "      <td>We had a great experience in Beijing.  The apa...</td>\n",
       "      <td>0.986246</td>\n",
       "    </tr>\n",
       "    <tr>\n",
       "      <th>7</th>\n",
       "      <td>44054.0</td>\n",
       "      <td>2886867.0</td>\n",
       "      <td>2012-11-15</td>\n",
       "      <td>3725353.0</td>\n",
       "      <td>Zahra</td>\n",
       "      <td>The apartment was exactly what I expected (as ...</td>\n",
       "      <td>0.995725</td>\n",
       "    </tr>\n",
       "  </tbody>\n",
       "</table>\n",
       "</div>"
      ],
      "text/plain": [
       "   listing_id         id        date  reviewer_id reviewer_name  \\\n",
       "1     44054.0   118384.0  2010-10-13     218723.0      Kimberly   \n",
       "2     44054.0   436978.0  2011-08-11     609177.0          Emma   \n",
       "3     44054.0  1118657.0  2012-04-12    1787536.0      Andreyna   \n",
       "6     44054.0  2507676.0  2012-10-04    3659992.0       Patrick   \n",
       "7     44054.0  2886867.0  2012-11-15    3725353.0         Zahra   \n",
       "\n",
       "                                            comments positive_prob  \n",
       "1  We arrived in Beijing very early in the mornin...      0.919216  \n",
       "2  It is a really massive apartment and really co...      0.994668  \n",
       "3  Sev was incredibly helpful, showed us around t...       0.99146  \n",
       "6  We had a great experience in Beijing.  The apa...      0.986246  \n",
       "7  The apartment was exactly what I expected (as ...      0.995725  "
      ]
     },
     "execution_count": 12,
     "metadata": {},
     "output_type": "execute_result"
    }
   ],
   "source": [
    "#数据预处理\n",
    "df = df[df['positive_prob'].notnull()]\n",
    "df_isnum=df['positive_prob'].str.len()\n",
    "df=df[df_isnum<=8]\n",
    "df=df[df_isnum>=7]\n",
    "df.head()"
   ]
  },
  {
   "cell_type": "code",
   "execution_count": 13,
   "metadata": {
    "scrolled": true
   },
   "outputs": [
    {
     "data": {
      "text/plain": [
       "listing_id       float64\n",
       "id               float64\n",
       "date              object\n",
       "reviewer_id      float64\n",
       "reviewer_name     object\n",
       "comments          object\n",
       "positive_prob    float64\n",
       "dtype: object"
      ]
     },
     "execution_count": 13,
     "metadata": {},
     "output_type": "execute_result"
    }
   ],
   "source": [
    "#将评分转换为float属性，方便求每个短租房的平均评分\n",
    "df['positive_prob']=df['positive_prob'].astype(float)\n",
    "df.dtypes"
   ]
  },
  {
   "cell_type": "markdown",
   "metadata": {},
   "source": [
    "### 由于每个房源有很多评论，为每个房源的评价求一个平均分，并按照降序的方式对评分进行排序"
   ]
  },
  {
   "cell_type": "code",
   "execution_count": 14,
   "metadata": {},
   "outputs": [],
   "source": [
    "#求每个短租房的平均评分,并将其保存至新的\n",
    "grouped2=df.groupby('listing_id',as_index=False)['positive_prob']\n",
    "group=grouped2.aggregate(np.mean)\n",
    "data=pd.DataFrame(group)\n",
    "data=data.sort_values(by=\"positive_prob\" , ascending=False)\n",
    "\n"
   ]
  },
  {
   "cell_type": "code",
   "execution_count": 15,
   "metadata": {},
   "outputs": [
    {
     "data": {
      "text/html": [
       "<div>\n",
       "<style scoped>\n",
       "    .dataframe tbody tr th:only-of-type {\n",
       "        vertical-align: middle;\n",
       "    }\n",
       "\n",
       "    .dataframe tbody tr th {\n",
       "        vertical-align: top;\n",
       "    }\n",
       "\n",
       "    .dataframe thead th {\n",
       "        text-align: right;\n",
       "    }\n",
       "</style>\n",
       "<table border=\"1\" class=\"dataframe\">\n",
       "  <thead>\n",
       "    <tr style=\"text-align: right;\">\n",
       "      <th></th>\n",
       "      <th>listing_id</th>\n",
       "      <th>positive_prob</th>\n",
       "    </tr>\n",
       "    <tr>\n",
       "      <th>id</th>\n",
       "      <th></th>\n",
       "      <th></th>\n",
       "    </tr>\n",
       "  </thead>\n",
       "  <tbody>\n",
       "    <tr>\n",
       "      <th>1</th>\n",
       "      <td>27444031</td>\n",
       "      <td>0.999994</td>\n",
       "    </tr>\n",
       "    <tr>\n",
       "      <th>2</th>\n",
       "      <td>33388753</td>\n",
       "      <td>0.999994</td>\n",
       "    </tr>\n",
       "    <tr>\n",
       "      <th>3</th>\n",
       "      <td>27742321</td>\n",
       "      <td>0.999994</td>\n",
       "    </tr>\n",
       "    <tr>\n",
       "      <th>4</th>\n",
       "      <td>32756739</td>\n",
       "      <td>0.999994</td>\n",
       "    </tr>\n",
       "    <tr>\n",
       "      <th>5</th>\n",
       "      <td>23248168</td>\n",
       "      <td>0.999994</td>\n",
       "    </tr>\n",
       "    <tr>\n",
       "      <th>...</th>\n",
       "      <td>...</td>\n",
       "      <td>...</td>\n",
       "    </tr>\n",
       "    <tr>\n",
       "      <th>15713</th>\n",
       "      <td>30929417</td>\n",
       "      <td>0.105618</td>\n",
       "    </tr>\n",
       "    <tr>\n",
       "      <th>15714</th>\n",
       "      <td>17312215</td>\n",
       "      <td>0.091238</td>\n",
       "    </tr>\n",
       "    <tr>\n",
       "      <th>15715</th>\n",
       "      <td>22964206</td>\n",
       "      <td>0.012775</td>\n",
       "    </tr>\n",
       "    <tr>\n",
       "      <th>15716</th>\n",
       "      <td>32427660</td>\n",
       "      <td>0.011444</td>\n",
       "    </tr>\n",
       "    <tr>\n",
       "      <th>15717</th>\n",
       "      <td>28882008</td>\n",
       "      <td>0.007058</td>\n",
       "    </tr>\n",
       "  </tbody>\n",
       "</table>\n",
       "<p>15717 rows × 2 columns</p>\n",
       "</div>"
      ],
      "text/plain": [
       "       listing_id  positive_prob\n",
       "id                              \n",
       "1        27444031       0.999994\n",
       "2        33388753       0.999994\n",
       "3        27742321       0.999994\n",
       "4        32756739       0.999994\n",
       "5        23248168       0.999994\n",
       "...           ...            ...\n",
       "15713    30929417       0.105618\n",
       "15714    17312215       0.091238\n",
       "15715    22964206       0.012775\n",
       "15716    32427660       0.011444\n",
       "15717    28882008       0.007058\n",
       "\n",
       "[15717 rows x 2 columns]"
      ]
     },
     "execution_count": 15,
     "metadata": {},
     "output_type": "execute_result"
    }
   ],
   "source": [
    "data = pd.read_csv(\"D:\\F\\jupyter/result1.csv\",index_col=0)\n",
    "data"
   ]
  },
  {
   "cell_type": "markdown",
   "metadata": {},
   "source": [
    "### 对前10位优质房源进行探索性分析"
   ]
  },
  {
   "cell_type": "code",
   "execution_count": 16,
   "metadata": {},
   "outputs": [],
   "source": [
    "listings.to_csv('list.csv',index=None)\n",
    "listing = pd.read_csv(\"D:\\F\\jupyter/list.csv\")\n"
   ]
  },
  {
   "cell_type": "code",
   "execution_count": 17,
   "metadata": {},
   "outputs": [],
   "source": [
    "nid=[]\n",
    "building=pd.read_csv('D:\\F\\jupyter\\\\buildings.csv')\n",
    "for i in range(1,10):\n",
    "    nid.append(data.loc[i,'listing_id'])\n"
   ]
  },
  {
   "cell_type": "markdown",
   "metadata": {},
   "source": [
    "#### 将优质房源信息保存在building.csv中"
   ]
  },
  {
   "cell_type": "code",
   "execution_count": 21,
   "metadata": {},
   "outputs": [],
   "source": [
    "x=0\n",
    "for i in nid:\n",
    "    for j in range (0,28427):\n",
    "        if i==listing.loc[j,'id']:\n",
    "            building.loc[x]=listing.loc[j]\n",
    "            x=x+1\n",
    "building.to_csv('buildings.csv', mode='a', header=False)\n"
   ]
  },
  {
   "cell_type": "code",
   "execution_count": 22,
   "metadata": {},
   "outputs": [
    {
     "data": {
      "text/html": [
       "<div>\n",
       "<style scoped>\n",
       "    .dataframe tbody tr th:only-of-type {\n",
       "        vertical-align: middle;\n",
       "    }\n",
       "\n",
       "    .dataframe tbody tr th {\n",
       "        vertical-align: top;\n",
       "    }\n",
       "\n",
       "    .dataframe thead th {\n",
       "        text-align: right;\n",
       "    }\n",
       "</style>\n",
       "<table border=\"1\" class=\"dataframe\">\n",
       "  <thead>\n",
       "    <tr style=\"text-align: right;\">\n",
       "      <th></th>\n",
       "      <th>id</th>\n",
       "      <th>name</th>\n",
       "      <th>host_id</th>\n",
       "      <th>host_name</th>\n",
       "      <th>neighbourhood</th>\n",
       "      <th>latitude</th>\n",
       "      <th>longitude</th>\n",
       "      <th>room_type</th>\n",
       "      <th>price</th>\n",
       "      <th>minimum_nights</th>\n",
       "      <th>number_of_reviews</th>\n",
       "      <th>last_review</th>\n",
       "      <th>reviews_per_month</th>\n",
       "      <th>calculated_host_listings_count</th>\n",
       "      <th>availability_365</th>\n",
       "    </tr>\n",
       "  </thead>\n",
       "  <tbody>\n",
       "    <tr>\n",
       "      <th>0</th>\n",
       "      <td>27444031</td>\n",
       "      <td>故宫东华门/王府井步行5分钟/近协和医院､妇产医院/典雅两人间</td>\n",
       "      <td>199608290</td>\n",
       "      <td>园</td>\n",
       "      <td>东城区</td>\n",
       "      <td>39.91620</td>\n",
       "      <td>116.40795</td>\n",
       "      <td>Entire home/apt</td>\n",
       "      <td>503.0</td>\n",
       "      <td>1</td>\n",
       "      <td>3</td>\n",
       "      <td>2019-02-21</td>\n",
       "      <td>0.39</td>\n",
       "      <td>27</td>\n",
       "      <td>136</td>\n",
       "    </tr>\n",
       "    <tr>\n",
       "      <th>1</th>\n",
       "      <td>33388753</td>\n",
       "      <td>CBD三里屯团结湖朝阳公园带阳台朝南蓝色大床大主卧</td>\n",
       "      <td>20953146</td>\n",
       "      <td>Frank</td>\n",
       "      <td>朝阳区</td>\n",
       "      <td>39.93431</td>\n",
       "      <td>116.46813</td>\n",
       "      <td>Private room</td>\n",
       "      <td>248.0</td>\n",
       "      <td>1</td>\n",
       "      <td>1</td>\n",
       "      <td>2019-04-07</td>\n",
       "      <td>1.00</td>\n",
       "      <td>1</td>\n",
       "      <td>362</td>\n",
       "    </tr>\n",
       "    <tr>\n",
       "      <th>2</th>\n",
       "      <td>27742321</td>\n",
       "      <td>『新年特惠』【品酒师之家】魏公村地铁站 | 动物园| 北理工 | 圆明园 |舒适两居室可做饭</td>\n",
       "      <td>175796487</td>\n",
       "      <td>莹莹</td>\n",
       "      <td>海淀区</td>\n",
       "      <td>39.96113</td>\n",
       "      <td>116.31929</td>\n",
       "      <td>Entire home/apt</td>\n",
       "      <td>362.0</td>\n",
       "      <td>1</td>\n",
       "      <td>1</td>\n",
       "      <td>2018-12-20</td>\n",
       "      <td>0.25</td>\n",
       "      <td>5</td>\n",
       "      <td>365</td>\n",
       "    </tr>\n",
       "    <tr>\n",
       "      <th>3</th>\n",
       "      <td>32756739</td>\n",
       "      <td>【蜗居】一个人的独处不如两个人的相依</td>\n",
       "      <td>220495764</td>\n",
       "      <td>Jason</td>\n",
       "      <td>朝阳区</td>\n",
       "      <td>39.90181</td>\n",
       "      <td>116.60125</td>\n",
       "      <td>Entire home/apt</td>\n",
       "      <td>1000.0</td>\n",
       "      <td>1</td>\n",
       "      <td>2</td>\n",
       "      <td>2019-03-17</td>\n",
       "      <td>1.50</td>\n",
       "      <td>1</td>\n",
       "      <td>316</td>\n",
       "    </tr>\n",
       "    <tr>\n",
       "      <th>4</th>\n",
       "      <td>23248168</td>\n",
       "      <td>近故宫带吧台的四合院</td>\n",
       "      <td>94320778</td>\n",
       "      <td>Joanna</td>\n",
       "      <td>东城区</td>\n",
       "      <td>39.91283</td>\n",
       "      <td>116.40453</td>\n",
       "      <td>Private room</td>\n",
       "      <td>1798.0</td>\n",
       "      <td>3</td>\n",
       "      <td>2</td>\n",
       "      <td>2019-03-21</td>\n",
       "      <td>0.14</td>\n",
       "      <td>10</td>\n",
       "      <td>67</td>\n",
       "    </tr>\n",
       "    <tr>\n",
       "      <th>5</th>\n",
       "      <td>26368341</td>\n",
       "      <td>北京怀柔泡桐小院1号院</td>\n",
       "      <td>198114561</td>\n",
       "      <td>添</td>\n",
       "      <td>怀柔区</td>\n",
       "      <td>40.37764</td>\n",
       "      <td>116.43312</td>\n",
       "      <td>Entire home/apt</td>\n",
       "      <td>1597.0</td>\n",
       "      <td>1</td>\n",
       "      <td>2</td>\n",
       "      <td>2018-09-04</td>\n",
       "      <td>0.23</td>\n",
       "      <td>2</td>\n",
       "      <td>361</td>\n",
       "    </tr>\n",
       "    <tr>\n",
       "      <th>6</th>\n",
       "      <td>16453093</td>\n",
       "      <td>芍药居机场线地铁鸟巢水立方南锣鼓巷附近深入骨髓的迷你美式LOFT出租</td>\n",
       "      <td>106955956</td>\n",
       "      <td>辉</td>\n",
       "      <td>朝阳区</td>\n",
       "      <td>39.97619</td>\n",
       "      <td>116.43141</td>\n",
       "      <td>Private room</td>\n",
       "      <td>497.0</td>\n",
       "      <td>1</td>\n",
       "      <td>2</td>\n",
       "      <td>2019-01-06</td>\n",
       "      <td>0.09</td>\n",
       "      <td>3</td>\n",
       "      <td>355</td>\n",
       "    </tr>\n",
       "    <tr>\n",
       "      <th>7</th>\n",
       "      <td>33218053</td>\n",
       "      <td>四季青桥五棵松桥高档小区豪华大床商务套间芳菲苑</td>\n",
       "      <td>250101730</td>\n",
       "      <td>希健</td>\n",
       "      <td>海淀区</td>\n",
       "      <td>39.93866</td>\n",
       "      <td>116.27284</td>\n",
       "      <td>Private room</td>\n",
       "      <td>429.0</td>\n",
       "      <td>1</td>\n",
       "      <td>2</td>\n",
       "      <td>2019-04-07</td>\n",
       "      <td>2.00</td>\n",
       "      <td>2</td>\n",
       "      <td>150</td>\n",
       "    </tr>\n",
       "    <tr>\n",
       "      <th>8</th>\n",
       "      <td>33458510</td>\n",
       "      <td>萤火虫5分钟到地铁站直达西站丰台科技园紧邻良乡大学城</td>\n",
       "      <td>251866931</td>\n",
       "      <td>宝丽</td>\n",
       "      <td>房山区</td>\n",
       "      <td>39.76381</td>\n",
       "      <td>116.18200</td>\n",
       "      <td>Entire home/apt</td>\n",
       "      <td>577.0</td>\n",
       "      <td>1</td>\n",
       "      <td>2</td>\n",
       "      <td>2019-04-13</td>\n",
       "      <td>2.00</td>\n",
       "      <td>1</td>\n",
       "      <td>163</td>\n",
       "    </tr>\n",
       "  </tbody>\n",
       "</table>\n",
       "</div>"
      ],
      "text/plain": [
       "         id                                            name    host_id  \\\n",
       "0  27444031                 故宫东华门/王府井步行5分钟/近协和医院､妇产医院/典雅两人间  199608290   \n",
       "1  33388753                       CBD三里屯团结湖朝阳公园带阳台朝南蓝色大床大主卧   20953146   \n",
       "2  27742321  『新年特惠』【品酒师之家】魏公村地铁站 | 动物园| 北理工 | 圆明园 |舒适两居室可做饭  175796487   \n",
       "3  32756739                              【蜗居】一个人的独处不如两个人的相依  220495764   \n",
       "4  23248168                                      近故宫带吧台的四合院   94320778   \n",
       "5  26368341                                     北京怀柔泡桐小院1号院  198114561   \n",
       "6  16453093              芍药居机场线地铁鸟巢水立方南锣鼓巷附近深入骨髓的迷你美式LOFT出租  106955956   \n",
       "7  33218053                         四季青桥五棵松桥高档小区豪华大床商务套间芳菲苑  250101730   \n",
       "8  33458510                      萤火虫5分钟到地铁站直达西站丰台科技园紧邻良乡大学城  251866931   \n",
       "\n",
       "  host_name neighbourhood  latitude  longitude        room_type   price  \\\n",
       "0         园           东城区  39.91620  116.40795  Entire home/apt   503.0   \n",
       "1     Frank           朝阳区  39.93431  116.46813     Private room   248.0   \n",
       "2        莹莹           海淀区  39.96113  116.31929  Entire home/apt   362.0   \n",
       "3     Jason           朝阳区  39.90181  116.60125  Entire home/apt  1000.0   \n",
       "4    Joanna           东城区  39.91283  116.40453     Private room  1798.0   \n",
       "5         添           怀柔区  40.37764  116.43312  Entire home/apt  1597.0   \n",
       "6         辉           朝阳区  39.97619  116.43141     Private room   497.0   \n",
       "7        希健           海淀区  39.93866  116.27284     Private room   429.0   \n",
       "8        宝丽           房山区  39.76381  116.18200  Entire home/apt   577.0   \n",
       "\n",
       "  minimum_nights number_of_reviews last_review  reviews_per_month  \\\n",
       "0              1                 3  2019-02-21               0.39   \n",
       "1              1                 1  2019-04-07               1.00   \n",
       "2              1                 1  2018-12-20               0.25   \n",
       "3              1                 2  2019-03-17               1.50   \n",
       "4              3                 2  2019-03-21               0.14   \n",
       "5              1                 2  2018-09-04               0.23   \n",
       "6              1                 2  2019-01-06               0.09   \n",
       "7              1                 2  2019-04-07               2.00   \n",
       "8              1                 2  2019-04-13               2.00   \n",
       "\n",
       "  calculated_host_listings_count availability_365  \n",
       "0                             27              136  \n",
       "1                              1              362  \n",
       "2                              5              365  \n",
       "3                              1              316  \n",
       "4                             10               67  \n",
       "5                              2              361  \n",
       "6                              3              355  \n",
       "7                              2              150  \n",
       "8                              1              163  "
      ]
     },
     "execution_count": 22,
     "metadata": {},
     "output_type": "execute_result"
    }
   ],
   "source": [
    "building"
   ]
  },
  {
   "cell_type": "code",
   "execution_count": 23,
   "metadata": {},
   "outputs": [
    {
     "data": {
      "text/plain": [
       "<matplotlib.axes._subplots.AxesSubplot at 0x1ade4b1bca0>"
      ]
     },
     "execution_count": 23,
     "metadata": {},
     "output_type": "execute_result"
    },
    {
     "data": {
      "image/png": "[encoded data removed]",
      "text/plain": [
       "<Figure size 432x432 with 1 Axes>"
      ]
     },
     "metadata": {},
     "output_type": "display_data"
    }
   ],
   "source": [
    "build = building.groupby(['neighbourhood','room_type']).agg({'id':'size','price':'mean'})\n",
    "build = build.rename(columns={'id':'number'})\n",
    "data_1 = build.unstack()['number']\n",
    "data_2 = data_1.sum(0).sort_values()\n",
    "plt.title('房屋类型占比')\n",
    "data_2.plot.pie(figsize=(6,6),autopct='%.2f%%')"
   ]
  },
  {
   "cell_type": "code",
   "execution_count": 24,
   "metadata": {},
   "outputs": [
    {
     "data": {
      "text/plain": [
       "<matplotlib.axes._subplots.AxesSubplot at 0x1ade4c99cd0>"
      ]
     },
     "execution_count": 24,
     "metadata": {},
     "output_type": "execute_result"
    },
    {
     "data": {
      "image/png": "[encoded data removed]",
      "text/plain": [
       "<Figure size 576x576 with 1 Axes>"
      ]
     },
     "metadata": {
      "needs_background": "light"
     },
     "output_type": "display_data"
    }
   ],
   "source": [
    "\n",
    "building.groupby('neighbourhood')['price'].mean().sort_values().plot.bar(figsize=(8,8),title='不同地区房源均价')"
   ]
  },
  {
   "cell_type": "code",
   "execution_count": 25,
   "metadata": {},
   "outputs": [
    {
     "data": {
      "text/plain": [
       "<matplotlib.axes._subplots.AxesSubplot at 0x1ade4d0abe0>"
      ]
     },
     "execution_count": 25,
     "metadata": {},
     "output_type": "execute_result"
    },
    {
     "data": {
      "image/png": "[encoded data removed]",
      "text/plain": [
       "<Figure size 576x576 with 1 Axes>"
      ]
     },
     "metadata": {},
     "output_type": "display_data"
    }
   ],
   "source": [
    "data_3 = data_1.sum(1).sort_values()\n",
    "plt.title('房屋地区占比')\n",
    "data_3.plot.pie(figsize=(8,8),autopct='%.2f%%')"
   ]
  },
  {
   "cell_type": "markdown",
   "metadata": {},
   "source": [
    "## 2.2 为用户推荐房源"
   ]
  },
  {
   "cell_type": "markdown",
   "metadata": {},
   "source": [
    "### 由用户输入想要选择的地点、房间类型和价格区间，在满足这些条件的基础上，我们为用户推荐10套评价最高的房源供用户挑选"
   ]
  },
  {
   "cell_type": "code",
   "execution_count": 27,
   "metadata": {},
   "outputs": [
    {
     "name": "stdout",
     "output_type": "stream",
     "text": [
      "请输入需要选择的房源位置（例如 东城区）：\n",
      "东城区\n",
      "请输入租房类型（Entire home/apt，Private room，Shared room）：\n",
      "Private room\n",
      "请输入您可以接受的价格区间\n",
      "请输入房价的下限：\n",
      "50\n",
      "请输入房价的上限：\n",
      "500\n"
     ]
    }
   ],
   "source": [
    "#接收用户筛选请求\n",
    "neighbourhood = input(\"请输入需要选择的房源位置（例如 东城区）：\\n\")\n",
    "room_type = input(\"请输入租房类型（Entire home/apt，Private room，Shared room）：\\n\")\n",
    "print(\"请输入您可以接受的价格区间\")\n",
    "price_min = input(\"请输入房价的下限：\\n\")\n",
    "price_max =input(\"请输入房价的上限：\\n\")\n"
   ]
  },
  {
   "cell_type": "code",
   "execution_count": 30,
   "metadata": {},
   "outputs": [],
   "source": [
    "price_min=float(price_min)\n",
    "price_max=float(price_max)"
   ]
  },
  {
   "cell_type": "code",
   "execution_count": 31,
   "metadata": {},
   "outputs": [
    {
     "data": {
      "text/plain": [
       "id                                  int64\n",
       "name                               object\n",
       "host_id                             int64\n",
       "host_name                          object\n",
       "neighbourhood                      object\n",
       "latitude                          float64\n",
       "longitude                         float64\n",
       "room_type                          object\n",
       "price                             float64\n",
       "minimum_nights                      int64\n",
       "number_of_reviews                   int64\n",
       "last_review                        object\n",
       "reviews_per_month                 float64\n",
       "calculated_host_listings_count      int64\n",
       "availability_365                    int64\n",
       "dtype: object"
      ]
     },
     "execution_count": 31,
     "metadata": {},
     "output_type": "execute_result"
    }
   ],
   "source": [
    "listings.to_csv('list.csv',index=None)\n",
    "listing = pd.read_csv(\"D:\\F\\jupyter/list.csv\")\n",
    "listing.dtypes"
   ]
  },
  {
   "cell_type": "code",
   "execution_count": 32,
   "metadata": {},
   "outputs": [],
   "source": [
    "#求出符合条件的房源id\n",
    "n=[]\n",
    "for i in range(0,28427):\n",
    "    if listing.loc[i,'neighbourhood']==neighbourhood :\n",
    "        if listing.loc[i,'room_type']==room_type :\n",
    "            if listing.loc[i,'price']>=price_min  and listing.loc[i,'price']<= price_max:\n",
    "                n.append(listing.loc[i,'id'])\n"
   ]
  },
  {
   "cell_type": "code",
   "execution_count": 33,
   "metadata": {},
   "outputs": [],
   "source": [
    "if len(n)==0:\n",
    "    print(\"没有符合条件的房源\")\n",
    "else: \n",
    "    m=[]\n",
    "    y=0\n",
    "    for i in range(0,len(n)-1):\n",
    "        for j in range(1,15717):\n",
    "            if n[i]==data.loc[j,'listing_id']:\n",
    "                m.append(n[i])\n",
    "                y=y+1\n",
    "                if y==10:\n",
    "                    break\n",
    "        if y==10:\n",
    "                    break\n",
    "            "
   ]
  },
  {
   "cell_type": "markdown",
   "metadata": {},
   "source": [
    "### 最终向用户推荐以下十个房源，为了清晰明了，推荐结果中只包含了房源id，房子名称以及价格"
   ]
  },
  {
   "cell_type": "code",
   "execution_count": 34,
   "metadata": {},
   "outputs": [
    {
     "name": "stdout",
     "output_type": "stream",
     "text": [
      "向您推荐评价最好的十个房源：\n",
      "\n",
      "[829407 'Gladys Garden - casual living' 289.0]\n",
      "[851984 'Gladys Garden - casual living 2' 262.0]\n",
      "[855090 'Gladys Garden - casual living 3' 242.0]\n",
      "[975146 'Cozy Courtyard w/ Private Bathroom!' 490.0]\n",
      "[1165040 '[Newyard PROMOTION]Former residence of Mei Lanfang' 134.0]\n",
      "[1543047 'Gladys Garden - casual living 4' 282.0]\n",
      "[1787002 'Cozy local style room in hutong center of Beijing' 201.0]\n",
      "[5741741 'Superb bedroom at Dongzhimen' 201.0]\n",
      "[6034500 'BJ hutong lifestyle' 470.0]\n"
     ]
    }
   ],
   "source": [
    "print(\"向您推荐评价最好的十个房源：\\n\")\n",
    "columns=['id','name','price']\n",
    "for i in range(0,28451):\n",
    "    for j in range(0,9):\n",
    "        if listing.loc[i,'id']==m[j]:\n",
    "            print(listing.iloc[i][columns].values)"
   ]
  },
  {
   "cell_type": "code",
   "execution_count": null,
   "metadata": {},
   "outputs": [],
   "source": []
  }
 ],
 "metadata": {
  "kernelspec": {
   "display_name": "Python 3",
   "language": "python",
   "name": "python3"
  },
  "language_info": {
   "codemirror_mode": {
    "name": "ipython",
    "version": 3
   },
   "file_extension": ".py",
   "mimetype": "text/x-python",
   "name": "python",
   "nbconvert_exporter": "python",
   "pygments_lexer": "ipython3",
   "version": "3.8.3"
  }
 },
 "nbformat": 4,
 "nbformat_minor": 2
}
